{
  "cells": [
    {
      "cell_type": "markdown",
      "metadata": {
        "id": "qOdzdmhC632P"
      },
      "source": [
        "CAPTION AND KEYWORD GENERATOR USING BLIP **MODEL**"
      ]
    },
    {
      "cell_type": "code",
      "execution_count": 29,
      "metadata": {
        "id": "8LXsApsQ32Yc"
      },
      "outputs": [],
      "source": [
        "#IMPORT LIBRARIES\n",
        "\n",
        "import gradio as gr\n",
        "import os\n",
        "import cv2\n",
        "import requests\n",
        "from PIL import Image\n",
        "from transformers import BlipProcessor, BlipForConditionalGeneration  #BLIP model\n",
        "from io import BytesIO\n",
        "import tempfile"
      ]
    },
    {
      "cell_type": "code",
      "execution_count": 30,
      "metadata": {
        "collapsed": true,
        "id": "h8uh0CQ350RO"
      },
      "outputs": [],
      "source": [
        "#IMPORT BLIP MODEL AND PROCESSOR\n",
        "\n",
        "processor = BlipProcessor.from_pretrained(\"Salesforce/blip-image-captioning-base\")\n",
        "model = BlipForConditionalGeneration.from_pretrained(\"Salesforce/blip-image-captioning-base\")\n"
      ]
    },
    {
      "cell_type": "code",
      "execution_count": 31,
      "metadata": {
        "colab": {
          "base_uri": "https://localhost:8080/",
          "height": 625
        },
        "id": "3sFPaEA462Op",
        "outputId": "7857bd68-0941-4a8d-8b24-d8fc347315a9"
      },
      "outputs": [
        {
          "name": "stdout",
          "output_type": "stream",
          "text": [
            "Running Gradio in a Colab notebook requires sharing enabled. Automatically setting `share=True` (you can turn this off by setting `share=False` in `launch()` explicitly).\n",
            "\n",
            "Colab notebook detected. To show errors in colab notebook, set debug=True in launch()\n",
            "* Running on public URL: https://9a75eb57e3b668f472.gradio.live\n",
            "\n",
            "This share link expires in 72 hours. For free permanent hosting and GPU upgrades, run `gradio deploy` from the terminal in the working directory to deploy to Hugging Face Spaces (https://huggingface.co/spaces)\n"
          ]
        },
        {
          "data": {
            "text/html": [
              "<div><iframe src=\"https://9a75eb57e3b668f472.gradio.live\" width=\"100%\" height=\"500\" allow=\"autoplay; camera; microphone; clipboard-read; clipboard-write;\" frameborder=\"0\" allowfullscreen></iframe></div>"
            ],
            "text/plain": [
              "<IPython.core.display.HTML object>"
            ]
          },
          "metadata": {},
          "output_type": "display_data"
        }
      ],
      "source": [
        "#FUNCTION TO DOWNLOAD VIDEO FROM URL\n",
        "\n",
        "def download_video_from_url(video_url):\n",
        "    try:\n",
        "        response = requests.get(video_url)\n",
        "        if response.status_code == 200:\n",
        "            # Save the video to a temporary file\n",
        "            temp_file = tempfile.NamedTemporaryFile(delete=False, suffix=\".mp4\")\n",
        "            with open(temp_file.name, 'wb') as f:\n",
        "                f.write(response.content)\n",
        "            return temp_file.name\n",
        "        else:\n",
        "            return None\n",
        "    except Exception as e:\n",
        "        print(f\"Error downloading video: {e}\")\n",
        "        return None\n",
        "\n",
        "#FUNCTION TO PROCEES VIDEO AND GENERATE CAPTIONS\n",
        "\n",
        "def process_video(video_file, video_url):\n",
        "    # Check if video_file or video_url is provided\n",
        "    if video_file:\n",
        "        cap = cv2.VideoCapture(video_file.name)\n",
        "    elif video_url:\n",
        "        video_path = download_video_from_url(video_url)\n",
        "        if video_path:\n",
        "            cap = cv2.VideoCapture(video_path)\n",
        "        else:\n",
        "            return \"Error: Video URL could not be downloaded.\", \"Error: Video URL could not be downloaded.\"\n",
        "    else:\n",
        "        return \"Error: No video provided.\", \"Error: No video provided.\"\n",
        "\n",
        "    captions = []\n",
        "    all_keywords = set()\n",
        "    frame_interval = 10\n",
        "    frame_count = int(cap.get(cv2.CAP_PROP_FRAME_COUNT))\n",
        "\n",
        "    for frame_num in range(0, frame_count, frame_interval):\n",
        "        ret, frame = cap.read()\n",
        "        if not ret:\n",
        "            break\n",
        "        pil_image = Image.fromarray(cv2.cvtColor(frame, cv2.COLOR_BGR2RGB))\n",
        "        inputs = processor(pil_image, return_tensors=\"pt\")\n",
        "        out = model.generate(**inputs)\n",
        "        caption = processor.decode(out[0], skip_special_tokens=True)\n",
        "        captions.append(caption)\n",
        "\n",
        "        #KEYWORD EXTRACTION BY SLPITTING CAPTIONS\n",
        "\n",
        "        frame_keywords = set(caption.split())\n",
        "        all_keywords.update(frame_keywords)\n",
        "\n",
        "    cap.release()\n",
        "\n",
        "    #COMBINE UNIQUE CAPTIONS\n",
        "\n",
        "    combined_captions = \"\\n\".join(list(set(captions)))\n",
        "    keywords = \", \".join(all_keywords)  # Combine unique keywords\n",
        "\n",
        "    return combined_captions, keywords\n",
        "\n",
        "#INTERFACE OF GRADIO\n",
        "\n",
        "def build_interface():\n",
        "    with gr.Blocks() as interface:\n",
        "        gr.Markdown(\"# Video Caption and Keyword Generator\")\n",
        "\n",
        "        #OPTION FOR VIDEO INPUT\n",
        "\n",
        "        with gr.Row():\n",
        "            video_upload = gr.File(label=\"Upload Video\", file_types=[\".mp4\", \".avi\", \".mov\"])\n",
        "            video_link = gr.Textbox(label=\"Paste Video Link\", placeholder=\"Enter video URL\")\n",
        "\n",
        "        #OUTPUT FOR CAPTION AND KEYWORDS\n",
        "\n",
        "        with gr.Row():\n",
        "            captions_output = gr.Textbox(label=\"Captions\", lines=10)\n",
        "            keywords_output = gr.Textbox(label=\"Keywords\", lines=5)\n",
        "\n",
        "\n",
        "#BUTTON FOR GENERATE\n",
        "\n",
        "        process_btn = gr.Button(\"Generate\")\n",
        "\n",
        "\n",
        "        process_btn.click(\n",
        "            fn=process_video,\n",
        "            inputs=[video_upload, video_link],\n",
        "            outputs=[captions_output, keywords_output]\n",
        "        )\n",
        "\n",
        "    return interface\n",
        "\n",
        "\n",
        "if __name__ == \"__main__\":\n",
        "    interface = build_interface()\n",
        "    interface.launch()\n"
      ]
    }
  ],
  "metadata": {
    "accelerator": "GPU",
    "colab": {
      "gpuType": "T4",
      "provenance": []
    },
    "kernelspec": {
      "display_name": "Python 3",
      "name": "python3"
    },
    "language_info": {
      "name": "python"
    }
  },
  "nbformat": 4,
  "nbformat_minor": 0
}
